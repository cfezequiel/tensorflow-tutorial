{
 "cells": [
  {
   "cell_type": "markdown",
   "metadata": {
    "deletable": true,
    "editable": true
   },
   "source": [
    "## Building a Tensorflow model "
   ]
  },
  {
   "cell_type": "code",
   "execution_count": 26,
   "metadata": {
    "collapsed": false,
    "deletable": true,
    "editable": true
   },
   "outputs": [
    {
     "name": "stdout",
     "output_type": "stream",
     "text": [
      "W: [-0.9999969] b: [ 0.99999082] loss: 5.69997e-11\n"
     ]
    }
   ],
   "source": [
    "import numpy as np\n",
    "import tensorflow as tf\n",
    "\n",
    "# Model parameters\n",
    "W = tf.Variable([.3], tf.float32)\n",
    "b = tf.Variable([-.3], tf.float32)\n",
    "\n",
    "# Model input and output\n",
    "x = tf.placeholder(tf.float32)\n",
    "linear_model = W * x + b\n",
    "y = tf.placeholder(tf.float32)\n",
    "\n",
    "# loss\n",
    "loss = tf.reduce_sum(tf.square(linear_model - y)) # sum of the squares\n",
    "\n",
    "# optimizer\n",
    "optimizer = tf.train.GradientDescentOptimizer(0.01)\n",
    "train = optimizer.minimize(loss)\n",
    "\n",
    "# training data\n",
    "x_train = [1,2,3,4]\n",
    "y_train = [0,-1,-2,-3]\n",
    "\n",
    "# training loop\n",
    "init = tf.global_variables_initializer()\n",
    "sess = tf.Session()\n",
    "sess.run(init)  # reset values to wrong\n",
    "for i in range(1000):\n",
    "    sess.run(train, {x:x_train, y:y_train})\n",
    "\n",
    "# evaluate training accuracy\n",
    "curr_W, curr_b, curr_loss = sess.run([W, b, loss], \n",
    "                                     {x:x_train, y:y_train})\n",
    "print(\"W: %s b: %s loss: %s\" % (curr_W, curr_b, curr_loss))"
   ]
  },
  {
   "cell_type": "markdown",
   "metadata": {
    "deletable": true,
    "editable": true
   },
   "source": [
    "## Using high-level Tensorflow library "
   ]
  },
  {
   "cell_type": "code",
   "execution_count": 4,
   "metadata": {
    "collapsed": false,
    "deletable": true,
    "editable": true
   },
   "outputs": [
    {
     "name": "stdout",
     "output_type": "stream",
     "text": [
      "WARNING:tensorflow:Using temporary folder as model directory: /var/folders/js/_03zcn857y3dgysfkk0wbf8c0000gn/T/tmpe8aRxk\n",
      "INFO:tensorflow:Using default config.\n",
      "INFO:tensorflow:Using config: {'_save_checkpoints_secs': 600, '_num_ps_replicas': 0, '_keep_checkpoint_max': 5, '_tf_random_seed': None, '_task_type': None, '_environment': 'local', '_is_chief': True, '_cluster_spec': <tensorflow.python.training.server_lib.ClusterSpec object at 0x111782fd0>, '_tf_config': gpu_options {\n",
      "  per_process_gpu_memory_fraction: 1\n",
      "}\n",
      ", '_task_id': 0, '_save_summary_steps': 100, '_save_checkpoints_steps': None, '_evaluation_master': '', '_keep_checkpoint_every_n_hours': 10000, '_master': ''}\n",
      "WARNING:tensorflow:Rank of input Tensor (1) should be the same as output_rank (2) for column. Will attempt to expand dims. It is highly recommended that you resize your input, as this behavior may change.\n",
      "WARNING:tensorflow:From /Users/carlos/Envs/default/lib/python2.7/site-packages/tensorflow/contrib/learn/python/learn/estimators/head.py:1362: scalar_summary (from tensorflow.python.ops.logging_ops) is deprecated and will be removed after 2016-11-30.\n",
      "Instructions for updating:\n",
      "Please switch to tf.summary.scalar. Note that tf.summary.scalar uses the node name instead of the tag. This means that TensorFlow will automatically de-duplicate summary names based on the scope they are created in. Also, passing a tensor or list of tags to a scalar summary op is no longer supported.\n",
      "INFO:tensorflow:Create CheckpointSaverHook.\n",
      "INFO:tensorflow:Saving checkpoints for 1 into /var/folders/js/_03zcn857y3dgysfkk0wbf8c0000gn/T/tmpe8aRxk/model.ckpt.\n",
      "INFO:tensorflow:loss = 1.25, step = 1\n",
      "INFO:tensorflow:global_step/sec: 757.959\n",
      "INFO:tensorflow:loss = 0.0452641, step = 101\n",
      "INFO:tensorflow:global_step/sec: 841.88\n",
      "INFO:tensorflow:loss = 0.00715117, step = 201\n",
      "INFO:tensorflow:global_step/sec: 809.558\n",
      "INFO:tensorflow:loss = 0.000527864, step = 301\n",
      "INFO:tensorflow:global_step/sec: 822.477\n",
      "INFO:tensorflow:loss = 0.000120032, step = 401\n",
      "INFO:tensorflow:global_step/sec: 789.042\n",
      "INFO:tensorflow:loss = 1.47281e-05, step = 501\n",
      "INFO:tensorflow:global_step/sec: 724.537\n",
      "INFO:tensorflow:loss = 6.49484e-07, step = 601\n",
      "INFO:tensorflow:global_step/sec: 681.812\n",
      "INFO:tensorflow:loss = 2.77619e-08, step = 701\n",
      "INFO:tensorflow:global_step/sec: 767.166\n",
      "INFO:tensorflow:loss = 1.44742e-08, step = 801\n",
      "INFO:tensorflow:global_step/sec: 909.206\n",
      "INFO:tensorflow:loss = 3.97392e-10, step = 901\n",
      "INFO:tensorflow:Saving checkpoints for 1000 into /var/folders/js/_03zcn857y3dgysfkk0wbf8c0000gn/T/tmpe8aRxk/model.ckpt.\n",
      "INFO:tensorflow:Loss for final step: 3.8648e-10.\n",
      "WARNING:tensorflow:Rank of input Tensor (1) should be the same as output_rank (2) for column. Will attempt to expand dims. It is highly recommended that you resize your input, as this behavior may change.\n",
      "WARNING:tensorflow:From /Users/carlos/Envs/default/lib/python2.7/site-packages/tensorflow/contrib/learn/python/learn/estimators/head.py:1362: scalar_summary (from tensorflow.python.ops.logging_ops) is deprecated and will be removed after 2016-11-30.\n",
      "Instructions for updating:\n",
      "Please switch to tf.summary.scalar. Note that tf.summary.scalar uses the node name instead of the tag. This means that TensorFlow will automatically de-duplicate summary names based on the scope they are created in. Also, passing a tensor or list of tags to a scalar summary op is no longer supported.\n",
      "INFO:tensorflow:Starting evaluation at 2017-03-26-14:23:42\n",
      "INFO:tensorflow:Finished evaluation at 2017-03-26-14:23:43\n",
      "INFO:tensorflow:Saving dict for global step 1000: global_step = 1000, loss = 2.59763e-10\n",
      "WARNING:tensorflow:Skipping summary for global_step, must be a float or np.float32.\n"
     ]
    },
    {
     "data": {
      "text/plain": [
       "{'global_step': 1000, 'loss': 2.5976321e-10}"
      ]
     },
     "execution_count": 4,
     "metadata": {},
     "output_type": "execute_result"
    }
   ],
   "source": [
    "import tensorflow as tf\n",
    "import numpy as np\n",
    "\n",
    "features = [tf.contrib.layers.real_valued_column(\"x\", dimension=1)]\n",
    "\n",
    "estimator = tf.contrib.learn.LinearRegressor(feature_columns=features)\n",
    "\n",
    "x = np.array([1., 2., 3., 4.])\n",
    "y = np.array([0., -1., -2., -3.])\n",
    "input_fn = tf.contrib.learn.io.numpy_input_fn({'x': x}, y, batch_size=4, num_epochs=1000)\n",
    "\n",
    "estimator.fit(input_fn=input_fn, steps=1000)\n",
    "\n",
    "estimator.evaluate(input_fn=input_fn)"
   ]
  },
  {
   "cell_type": "markdown",
   "metadata": {},
   "source": [
    "## Custom TF model "
   ]
  },
  {
   "cell_type": "code",
   "execution_count": 8,
   "metadata": {
    "collapsed": false
   },
   "outputs": [
    {
     "name": "stdout",
     "output_type": "stream",
     "text": [
      "WARNING:tensorflow:Using temporary folder as model directory: /var/folders/js/_03zcn857y3dgysfkk0wbf8c0000gn/T/tmppihnXG\n",
      "INFO:tensorflow:Using default config.\n",
      "INFO:tensorflow:Using config: {'_save_checkpoints_secs': 600, '_num_ps_replicas': 0, '_keep_checkpoint_max': 5, '_tf_random_seed': None, '_task_type': None, '_environment': 'local', '_is_chief': True, '_cluster_spec': <tensorflow.python.training.server_lib.ClusterSpec object at 0x11bd8d890>, '_tf_config': gpu_options {\n",
      "  per_process_gpu_memory_fraction: 1\n",
      "}\n",
      ", '_task_id': 0, '_save_summary_steps': 100, '_save_checkpoints_steps': None, '_evaluation_master': '', '_keep_checkpoint_every_n_hours': 10000, '_master': ''}\n",
      "INFO:tensorflow:Create CheckpointSaverHook.\n",
      "INFO:tensorflow:Saving checkpoints for 1 into /var/folders/js/_03zcn857y3dgysfkk0wbf8c0000gn/T/tmppihnXG/model.ckpt.\n",
      "INFO:tensorflow:loss = 0.367546963547, step = 1\n",
      "INFO:tensorflow:global_step/sec: 822.077\n",
      "INFO:tensorflow:loss = 0.0235789449641, step = 101\n",
      "INFO:tensorflow:global_step/sec: 757.714\n",
      "INFO:tensorflow:loss = 0.000870079863681, step = 201\n",
      "INFO:tensorflow:global_step/sec: 808.014\n",
      "INFO:tensorflow:loss = 0.000187815307048, step = 301\n",
      "INFO:tensorflow:global_step/sec: 795.584\n",
      "INFO:tensorflow:loss = 1.45209489108e-05, step = 401\n",
      "INFO:tensorflow:global_step/sec: 791.151\n",
      "INFO:tensorflow:loss = 1.31668036565e-06, step = 501\n",
      "INFO:tensorflow:global_step/sec: 893.057\n",
      "INFO:tensorflow:loss = 4.14344522239e-08, step = 601\n",
      "INFO:tensorflow:global_step/sec: 880.056\n",
      "INFO:tensorflow:loss = 8.02882452674e-09, step = 701\n",
      "INFO:tensorflow:global_step/sec: 924.762\n",
      "INFO:tensorflow:loss = 5.16385929544e-10, step = 801\n",
      "INFO:tensorflow:global_step/sec: 1179.84\n",
      "INFO:tensorflow:loss = 4.25368032702e-11, step = 901\n",
      "INFO:tensorflow:Saving checkpoints for 1000 into /var/folders/js/_03zcn857y3dgysfkk0wbf8c0000gn/T/tmppihnXG/model.ckpt.\n",
      "INFO:tensorflow:Loss for final step: 1.51704912619e-12.\n",
      "INFO:tensorflow:Starting evaluation at 2017-03-26-14:43:49\n",
      "INFO:tensorflow:Evaluation [1/10]\n",
      "INFO:tensorflow:Evaluation [2/10]\n",
      "INFO:tensorflow:Evaluation [3/10]\n",
      "INFO:tensorflow:Evaluation [4/10]\n",
      "INFO:tensorflow:Evaluation [5/10]\n",
      "INFO:tensorflow:Evaluation [6/10]\n",
      "INFO:tensorflow:Evaluation [7/10]\n",
      "INFO:tensorflow:Evaluation [8/10]\n",
      "INFO:tensorflow:Evaluation [9/10]\n",
      "INFO:tensorflow:Evaluation [10/10]\n",
      "INFO:tensorflow:Finished evaluation at 2017-03-26-14:43:50\n",
      "INFO:tensorflow:Saving dict for global step 1000: global_step = 1000, loss = 5.29211e-12\n",
      "WARNING:tensorflow:Skipping summary for global_step, must be a float or np.float32.\n",
      "{'loss': 5.292114e-12, 'global_step': 1000}\n"
     ]
    }
   ],
   "source": [
    "import numpy as np\n",
    "import tensorflow as tf\n",
    "\n",
    "def model(features, labels, mode):\n",
    "    # Build a linear model and pridct values\n",
    "    W = tf.get_variable('W', [1], dtype=tf.float64)\n",
    "    b = tf.get_variable('b', [1], dtype=tf.float64)\n",
    "    y = W*features['x'] + b\n",
    "    \n",
    "    # Loss sub-graph\n",
    "    loss = tf.reduce_sum(tf.square(y - labels))\n",
    "    \n",
    "    # Training sub-graph\n",
    "    global_step = tf.train.get_global_step()\n",
    "    optimizer = tf.train.GradientDescentOptimizer(0.01)\n",
    "    train = tf.group(optimizer.minimize(loss),\n",
    "                    tf.assign_add(global_step, 1))\n",
    "    \n",
    "    # ModelFnOps connects subgraphs we built to the\n",
    "    # appropriate functionality\n",
    "    return tf.contrib.learn.ModelFnOps(\n",
    "        mode=mode, predictions=y, loss=loss, train_op=train)\n",
    "\n",
    "estimator = tf.contrib.learn.Estimator(model_fn=model)\n",
    "\n",
    "# define our data set\n",
    "x = np.array([1., 2., 3., 4.])\n",
    "y = np.array([0., -1., -2., -3.])\n",
    "input_fn = tf.contrib.learn.io.numpy_input_fn({\"x\": x}, y, 4, num_epochs=1000)\n",
    "\n",
    "# train\n",
    "estimator.fit(input_fn=input_fn, steps=1000)\n",
    "\n",
    "# evaluate our model\n",
    "print(estimator.evaluate(input_fn=input_fn, steps=10))"
   ]
  },
  {
   "cell_type": "code",
   "execution_count": null,
   "metadata": {
    "collapsed": true
   },
   "outputs": [],
   "source": []
  }
 ],
 "metadata": {
  "kernelspec": {
   "display_name": "Python 2",
   "language": "python",
   "name": "python2"
  },
  "language_info": {
   "codemirror_mode": {
    "name": "ipython",
    "version": 2
   },
   "file_extension": ".py",
   "mimetype": "text/x-python",
   "name": "python",
   "nbconvert_exporter": "python",
   "pygments_lexer": "ipython2",
   "version": "2.7.13"
  }
 },
 "nbformat": 4,
 "nbformat_minor": 2
}
